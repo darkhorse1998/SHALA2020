{
  "nbformat": 4,
  "nbformat_minor": 0,
  "metadata": {
    "colab": {
      "name": "Copy of Assignment -1 - DS.ipynb",
      "provenance": [],
      "collapsed_sections": [],
      "include_colab_link": true
    },
    "kernelspec": {
      "name": "python3",
      "display_name": "Python 3"
    }
  },
  "cells": [
    {
      "cell_type": "markdown",
      "metadata": {
        "id": "view-in-github",
        "colab_type": "text"
      },
      "source": [
        "<a href=\"https://colab.research.google.com/github/darkhorse1998/SHALA2020/blob/master/Copy_of_Assignment_1_DS.ipynb\" target=\"_parent\"><img src=\"https://colab.research.google.com/assets/colab-badge.svg\" alt=\"Open In Colab\"/></a>"
      ]
    },
    {
      "cell_type": "markdown",
      "metadata": {
        "id": "hmr2U-GChnlR",
        "colab_type": "text"
      },
      "source": [
        "\n",
        "# **Assignment - 1 : Getting Started**\n",
        "\n",
        "---\n",
        "\n",
        "This assignment will get you familiarized with python libraries required for ***data science*** and ***machine learning***. You will have to complete the code snippets and run them. "
      ]
    },
    {
      "cell_type": "code",
      "metadata": {
        "id": "e29XILiQ7XA4",
        "colab_type": "code",
        "colab": {
          "base_uri": "https://localhost:8080/",
          "height": 34
        },
        "outputId": "f574603d-1a50-4b41-9f75-53eff1a43f33"
      },
      "source": [
        "from google.colab import drive\n",
        "drive.mount('/content/drive')"
      ],
      "execution_count": 2,
      "outputs": [
        {
          "output_type": "stream",
          "text": [
            "Drive already mounted at /content/drive; to attempt to forcibly remount, call drive.mount(\"/content/drive\", force_remount=True).\n"
          ],
          "name": "stdout"
        }
      ]
    },
    {
      "cell_type": "markdown",
      "metadata": {
        "id": "211pD45xEO0u",
        "colab_type": "text"
      },
      "source": [
        "## **Note :**   Use only the methods and attributes of the ```numpy``` library. **Do not** hard-code them. Avoid loops as much as possible."
      ]
    },
    {
      "cell_type": "markdown",
      "metadata": {
        "id": "O7v9C4mun3SQ",
        "colab_type": "text"
      },
      "source": [
        "---\n",
        "## Part - 1\n",
        " In this part, you will work with the library ```numpy```. \n",
        "\n",
        "\n"
      ]
    },
    {
      "cell_type": "markdown",
      "metadata": {
        "id": "846yDaXQwiMD",
        "colab_type": "text"
      },
      "source": [
        "Import ```numpy``` with an alias name ```np```. Initialize two arrays $a$, $b$ of size $3 \\times 5$ with random values and print them. "
      ]
    },
    {
      "cell_type": "code",
      "metadata": {
        "id": "_MyeCO3_o3oq",
        "colab_type": "code",
        "colab": {
          "base_uri": "https://localhost:8080/",
          "height": 118
        },
        "outputId": "2285f59c-9f22-4fa8-de5c-3e15c263dea8"
      },
      "source": [
        "import numpy as np\n",
        "np.random.seed(64)\n",
        "\n",
        "a = np.random.randn(3,5)*100\n",
        "b = np.random.randn(3,5)*100\n",
        "print(a)\n",
        "print(b)"
      ],
      "execution_count": 18,
      "outputs": [
        {
          "output_type": "stream",
          "text": [
            "[[ 110.03229392 -198.26274166 -115.02495131  219.29163627 -190.14350266]\n",
            " [ -43.38966946 -113.55818657 -103.32950701 -237.19586221   70.33380865]\n",
            " [  38.48421246  175.04858048 -119.50692575   29.51276814    4.83208849]]\n",
            "[[ -17.12988524  -50.50270277 -136.85140319  -10.25786888  -38.65773297]\n",
            " [ -45.61057624 -135.9171708   -39.68769853   59.46319066 -137.7933694 ]\n",
            " [  51.1795035   -54.13323871  -49.09407605   32.61542225   73.86735916]]\n"
          ],
          "name": "stdout"
        }
      ]
    },
    {
      "cell_type": "markdown",
      "metadata": {
        "id": "p7jtpYT4wiO6",
        "colab_type": "text"
      },
      "source": [
        "Initialize and print two arrays $c$ and $d$ having the following properties:\n",
        "*   $c$ is a row vector with all non-negative integer values less than 100\n",
        "* $d$ is a square matrix of size 3 having all entries as 0.0"
      ]
    },
    {
      "cell_type": "code",
      "metadata": {
        "id": "a2lJdRf8x9f2",
        "colab_type": "code",
        "colab": {
          "base_uri": "https://localhost:8080/",
          "height": 151
        },
        "outputId": "4e6df1ac-a14e-49b5-e4d1-438d1e428e33"
      },
      "source": [
        "c = np.random.randint(1,100,size=(100,))\n",
        "d = np.zeros((3,3))\n",
        "print(c)\n",
        "print(d)"
      ],
      "execution_count": 25,
      "outputs": [
        {
          "output_type": "stream",
          "text": [
            "[72 33 42 83 43 90 25 68 59 63 23 17 45 68 35 94 81 22 64  2 44 17 47 40\n",
            " 14 16 49 37 78 26 18 44 62 44  6 98 75 36 37 72 49 49 61 50 17 32 69  7\n",
            " 35 87 70 10 52  1 34 73 30 33  7 69 89 18 75 83 24 91 19 25 45 38 85 27\n",
            " 12  9 72 68 67 10 93 47 82 41 57  6 98 79 12 37 35 69  4  2 37  2 28 78\n",
            " 92 68 87 89]\n",
            "[[0. 0. 0.]\n",
            " [0. 0. 0.]\n",
            " [0. 0. 0.]]\n"
          ],
          "name": "stdout"
        }
      ]
    },
    {
      "cell_type": "markdown",
      "metadata": {
        "id": "qqgtSsa88Zmh",
        "colab_type": "text"
      },
      "source": [
        "We have $e$ as following : ```e = [[1,2,3],[4,5,6],[7,8,9]]```. Change $e$ as a numpy array and print it."
      ]
    },
    {
      "cell_type": "code",
      "metadata": {
        "id": "Krhm4bVE7RET",
        "colab_type": "code",
        "colab": {
          "base_uri": "https://localhost:8080/",
          "height": 67
        },
        "outputId": "adacd81b-6391-4275-bea7-c564d70bab35"
      },
      "source": [
        "e = [[1,2,3],[4,5,6],[7,8,9]]\n",
        "e = np.array(e)\n",
        "print(e)"
      ],
      "execution_count": 21,
      "outputs": [
        {
          "output_type": "stream",
          "text": [
            "[[1 2 3]\n",
            " [4 5 6]\n",
            " [7 8 9]]\n"
          ],
          "name": "stdout"
        }
      ]
    },
    {
      "cell_type": "markdown",
      "metadata": {
        "id": "1qTikI0foam9",
        "colab_type": "text"
      },
      "source": [
        "$f$ and $g$ are two square matrices of size 5 such that all the entries of $f$ are 1 and $g$ is an identity matrix. Initialize them and print them"
      ]
    },
    {
      "cell_type": "code",
      "metadata": {
        "id": "DvaLckI49aBV",
        "colab_type": "code",
        "colab": {
          "base_uri": "https://localhost:8080/",
          "height": 185
        },
        "outputId": "758bceb9-f066-4bb0-c1bc-cb1657378e02"
      },
      "source": [
        "f = np.ones((5,5))\n",
        "g = np.eye(5)\n",
        "print(f)\n",
        "print(g)"
      ],
      "execution_count": 22,
      "outputs": [
        {
          "output_type": "stream",
          "text": [
            "[[1. 1. 1. 1. 1.]\n",
            " [1. 1. 1. 1. 1.]\n",
            " [1. 1. 1. 1. 1.]\n",
            " [1. 1. 1. 1. 1.]\n",
            " [1. 1. 1. 1. 1.]]\n",
            "[[1. 0. 0. 0. 0.]\n",
            " [0. 1. 0. 0. 0.]\n",
            " [0. 0. 1. 0. 0.]\n",
            " [0. 0. 0. 1. 0.]\n",
            " [0. 0. 0. 0. 1.]]\n"
          ],
          "name": "stdout"
        }
      ]
    },
    {
      "cell_type": "markdown",
      "metadata": {
        "id": "gcBZAZibAKcg",
        "colab_type": "text"
      },
      "source": [
        "Reshape $c$ into a $10 \\times 10$ matrix and name it $h$. Now flatten $h$, call it $c^\\prime$ and print **YES** when the shapes of $c$ and $c^\\prime$ are same. Otherwise print **NO**."
      ]
    },
    {
      "cell_type": "code",
      "metadata": {
        "id": "I71vtO9bA9Pi",
        "colab_type": "code",
        "colab": {
          "base_uri": "https://localhost:8080/",
          "height": 34
        },
        "outputId": "531d92d0-5824-407a-c6e5-3bbd3a40a412"
      },
      "source": [
        "h = c.reshape((10,10))\n",
        "c1 = h.flatten()\n",
        "if(c.shape == c1.shape):\n",
        "  print(\"YES\")\n",
        "else:\n",
        "  print(\"NO\")"
      ],
      "execution_count": 33,
      "outputs": [
        {
          "output_type": "stream",
          "text": [
            "YES\n"
          ],
          "name": "stdout"
        }
      ]
    },
    {
      "cell_type": "markdown",
      "metadata": {
        "id": "8FrecDPiA-Bv",
        "colab_type": "text"
      },
      "source": [
        "Let $A$ denote a randomly initialized three dimensional matrix of shape (2,10,5). Transpose $A$, call it $A^\\prime$, such that its shape is (5,2,10) and print it."
      ]
    },
    {
      "cell_type": "code",
      "metadata": {
        "id": "VbOKqSm6Bkaq",
        "colab_type": "code",
        "colab": {
          "base_uri": "https://localhost:8080/",
          "height": 420
        },
        "outputId": "c4a713b6-6aba-4092-fab5-ffb1d0b228ae"
      },
      "source": [
        "A = np.random.rand(2,10,5)\n",
        "A = A.reshape(5,2,10)\n",
        "print(A)"
      ],
      "execution_count": 35,
      "outputs": [
        {
          "output_type": "stream",
          "text": [
            "[[[0.22962989 0.93128459 0.84469673 0.19869428 0.05590165 0.47183167\n",
            "   0.87196831 0.40113814 0.35498085 0.16834766]\n",
            "  [0.44483561 0.57398082 0.85509222 0.94830422 0.59879882 0.89521894\n",
            "   0.25210234 0.28324278 0.34920544 0.62615601]]\n",
            "\n",
            " [[0.67083096 0.4979284  0.91419001 0.78628947 0.38979661 0.40450823\n",
            "   0.11881165 0.24100343 0.53744136 0.20710271]\n",
            "  [0.87422053 0.94610908 0.13455216 0.07074243 0.51551924 0.62223359\n",
            "   0.97097787 0.6211999  0.4400663  0.51800519]]\n",
            "\n",
            " [[0.99825443 0.57792125 0.07243548 0.28645383 0.78237621 0.67161929\n",
            "   0.92358405 0.19916519 0.63864741 0.93294711]\n",
            "  [0.30519689 0.54188208 0.8028703  0.28720456 0.16961143 0.18364317\n",
            "   0.29498396 0.16159882 0.18036664 0.79821427]]\n",
            "\n",
            " [[0.5356511  0.12859598 0.77478947 0.14291007 0.85121081 0.54835242\n",
            "   0.31259253 0.29961732 0.67666334 0.34329742]\n",
            "  [0.59408845 0.94103195 0.82974189 0.05333369 0.8265587  0.6443379\n",
            "   0.09796639 0.00843636 0.82194    0.95427482]]\n",
            "\n",
            " [[0.61115249 0.8686227  0.80107624 0.40372932 0.48771927 0.40796973\n",
            "   0.6070442  0.35156343 0.60381957 0.7586682 ]\n",
            "  [0.58040732 0.00280471 0.79563475 0.64669753 0.74341159 0.69306204\n",
            "   0.00656736 0.92884771 0.67660058 0.06056331]]]\n"
          ],
          "name": "stdout"
        }
      ]
    },
    {
      "cell_type": "markdown",
      "metadata": {
        "id": "xR2zd-nkCani",
        "colab_type": "text"
      },
      "source": [
        "You have a matrix $X$ of size (10,5) filled with random values. Print the following :\n",
        "* Minimum value and index where it occured, for each column\n",
        "* Maximum value and the index where it occured, for each column\n",
        "* Minimum value and index where it occured, for each row\n",
        "* Maximum value and index where it occured, for each row\n",
        "* Minimum value and index where it occured, for the entire matrix\n",
        "* Maximum value and index where it occured, for the entire matrix"
      ]
    },
    {
      "cell_type": "code",
      "metadata": {
        "id": "FR2Wd4fWD_Og",
        "colab_type": "code",
        "colab": {
          "base_uri": "https://localhost:8080/",
          "height": 353
        },
        "outputId": "bdaebb34-0741-42a9-a1a2-28d802e923dd"
      },
      "source": [
        "np.random.seed(0)\n",
        "X = np.random.rand(10,5)\n",
        "print(\"Matrix X is: \\n{}\".format(X))\n",
        "print(\"\\n\")\n",
        "print(X.min(axis=0),X.argmin(axis=0))\n",
        "print(X.max(axis=0),X.argmin(axis=0))\n",
        "print(X.min(axis=1),X.argmin(axis=1))\n",
        "print(X.max(axis=1),X.argmin(axis=1))\n",
        "print(X.max(),X.argmax())\n"
      ],
      "execution_count": 38,
      "outputs": [
        {
          "output_type": "stream",
          "text": [
            "Matrix X is: \n",
            "[[0.5488135  0.71518937 0.60276338 0.54488318 0.4236548 ]\n",
            " [0.64589411 0.43758721 0.891773   0.96366276 0.38344152]\n",
            " [0.79172504 0.52889492 0.56804456 0.92559664 0.07103606]\n",
            " [0.0871293  0.0202184  0.83261985 0.77815675 0.87001215]\n",
            " [0.97861834 0.79915856 0.46147936 0.78052918 0.11827443]\n",
            " [0.63992102 0.14335329 0.94466892 0.52184832 0.41466194]\n",
            " [0.26455561 0.77423369 0.45615033 0.56843395 0.0187898 ]\n",
            " [0.6176355  0.61209572 0.616934   0.94374808 0.6818203 ]\n",
            " [0.3595079  0.43703195 0.6976312  0.06022547 0.66676672]\n",
            " [0.67063787 0.21038256 0.1289263  0.31542835 0.36371077]]\n",
            "\n",
            "\n",
            "[0.0871293  0.0202184  0.1289263  0.06022547 0.0187898 ] [3 3 9 8 6]\n",
            "[0.97861834 0.79915856 0.94466892 0.96366276 0.87001215] [3 3 9 8 6]\n",
            "[0.4236548  0.38344152 0.07103606 0.0202184  0.11827443 0.14335329\n",
            " 0.0187898  0.61209572 0.06022547 0.1289263 ] [4 4 4 1 4 1 4 1 3 2]\n",
            "[0.71518937 0.96366276 0.92559664 0.87001215 0.97861834 0.94466892\n",
            " 0.77423369 0.94374808 0.6976312  0.67063787] [4 4 4 1 4 1 4 1 3 2]\n",
            "0.978618342232764 20\n"
          ],
          "name": "stdout"
        }
      ]
    },
    {
      "cell_type": "markdown",
      "metadata": {
        "id": "YpjW2ypkEGtS",
        "colab_type": "text"
      },
      "source": [
        "Find and print the following for the matrix X: \n",
        "* Mean of each row and column\n",
        "* Standard deviation of each row and column\n",
        "* Mean of the entire matrix\n",
        "* Standard deviation of entire matrix"
      ]
    },
    {
      "cell_type": "code",
      "metadata": {
        "id": "gMdm2pw0GWjf",
        "colab_type": "code",
        "colab": {}
      },
      "source": [
        ""
      ],
      "execution_count": 0,
      "outputs": []
    },
    {
      "cell_type": "markdown",
      "metadata": {
        "id": "7dw7W8HOGXKA",
        "colab_type": "text"
      },
      "source": [
        "Let $Y$ denote a square matrix of size 10 with random values. Print the following:\n",
        "* Determinant\n",
        "* Rank of the matrix\n",
        "* Diagonal Elements\n",
        "* Trace\n",
        "* Eigen values\n",
        "* Matrices obtained after Singular Value Decomposition\n",
        "* Inverse if exists, otherwise Pseudo-Inverse\n",
        "* Multiplication $Y$ with $X$\n",
        "* Element-wise multiplication of $Y$ and its inverse(or pseudo-inverse)"
      ]
    },
    {
      "cell_type": "code",
      "metadata": {
        "id": "Tswbn9hgL7yi",
        "colab_type": "code",
        "colab": {}
      },
      "source": [
        "np.random.seed(3)\n",
        "Y = np.random.rand(10,10)\n",
        "\n",
        "\n"
      ],
      "execution_count": 0,
      "outputs": []
    },
    {
      "cell_type": "markdown",
      "metadata": {
        "id": "Qne3RnfOL6-4",
        "colab_type": "text"
      },
      "source": [
        "## End of Part - 1\n",
        " --- --- ---"
      ]
    },
    {
      "cell_type": "markdown",
      "metadata": {
        "id": "LA-m4UYkMPTe",
        "colab_type": "text"
      },
      "source": [
        "## Part - 2\n",
        "---\n",
        "In this part, you will be working with the library ```pandas```. Import this library with an alias name ```pd```."
      ]
    },
    {
      "cell_type": "code",
      "metadata": {
        "id": "i8z7TpnZSIms",
        "colab_type": "code",
        "colab": {}
      },
      "source": [
        "# Initial imports\n",
        "import numpy as np\n",
        "import matplotlib.pyplot as plt\n"
      ],
      "execution_count": 0,
      "outputs": []
    },
    {
      "cell_type": "markdown",
      "metadata": {
        "id": "2v-HkHnyuQ3X",
        "colab_type": "text"
      },
      "source": [
        "Download dataset from: http://biostat.mc.vanderbilt.edu/wiki/pub/Main/DataSets/titanic3.csv\n",
        "Read the data and display the first 5 rows"
      ]
    },
    {
      "cell_type": "code",
      "metadata": {
        "id": "LinX5ywNTUIm",
        "colab_type": "code",
        "colab": {}
      },
      "source": [
        "#Download dataset from: http://biostat.mc.vanderbilt.edu/wiki/pub/Main/DataSets/titanic3.csv\n",
        "\n",
        "file_url = \"http://biostat.mc.vanderbilt.edu/wiki/pub/Main/DataSets/titanic3.csv\"\n",
        "\n"
      ],
      "execution_count": 0,
      "outputs": []
    },
    {
      "cell_type": "markdown",
      "metadata": {
        "id": "vTk1-mF5WYFN",
        "colab_type": "text"
      },
      "source": [
        "### Preprocessing of the Dataset"
      ]
    },
    {
      "cell_type": "markdown",
      "metadata": {
        "id": "kx9UrI9WWt17",
        "colab_type": "text"
      },
      "source": [
        "\n",
        "\n",
        "---\n",
        "\n",
        "\n",
        "**1. Convert the categorical values of columns 'sex', 'embarked', 'pclass' into dummy values and add them into titanic_data_new DataFrame**\n",
        "\n",
        "\n",
        "\n",
        "\n",
        "---\n",
        "\n"
      ]
    },
    {
      "cell_type": "code",
      "metadata": {
        "id": "AwDh9njbZ0QU",
        "colab_type": "code",
        "colab": {}
      },
      "source": [
        ""
      ],
      "execution_count": 0,
      "outputs": []
    },
    {
      "cell_type": "markdown",
      "metadata": {
        "id": "Z9bxOfzDbY-n",
        "colab_type": "text"
      },
      "source": [
        "\n",
        "\n",
        "---\n",
        "\n",
        "\n",
        "**2. Fill the missing data in Age and Fare columns with the mean value of the respected column then add these columns to titanic_data_new**\n",
        "\n",
        "\n",
        "---\n",
        "\n"
      ]
    },
    {
      "cell_type": "code",
      "metadata": {
        "id": "DNx7Pr0ehhAs",
        "colab_type": "code",
        "colab": {}
      },
      "source": [
        ""
      ],
      "execution_count": 0,
      "outputs": []
    },
    {
      "cell_type": "markdown",
      "metadata": {
        "id": "SlRzKfhxkd1M",
        "colab_type": "text"
      },
      "source": [
        "###Normalization\n",
        "\n",
        "\n",
        "---\n",
        "\n",
        "\n",
        "\n",
        "1. Normalize the columns which have numerical data\n",
        "\n",
        "\n",
        "\n",
        "---\n",
        "\n"
      ]
    },
    {
      "cell_type": "code",
      "metadata": {
        "id": "Y3hpu92TlM38",
        "colab_type": "code",
        "colab": {}
      },
      "source": [
        ""
      ],
      "execution_count": 0,
      "outputs": []
    },
    {
      "cell_type": "markdown",
      "metadata": {
        "id": "wB9-5x83mFAO",
        "colab_type": "text"
      },
      "source": [
        "\n",
        "\n",
        "---\n",
        "2. Drop the original age, fare columns\n",
        "3. Append the normalized columns to the titanic_data_new DataFrame.\n",
        "\n",
        "\n",
        "\n",
        "---\n",
        "\n"
      ]
    },
    {
      "cell_type": "code",
      "metadata": {
        "id": "Kb00kM0onQJy",
        "colab_type": "code",
        "colab": {}
      },
      "source": [
        ""
      ],
      "execution_count": 0,
      "outputs": []
    },
    {
      "cell_type": "markdown",
      "metadata": {
        "id": "uLxN3PozntKe",
        "colab_type": "text"
      },
      "source": [
        "###Plotting\n",
        "1. plot the age against the ID(continuous)\n",
        "2. plot the fare against the ID(scatter)"
      ]
    },
    {
      "cell_type": "code",
      "metadata": {
        "id": "LdSfNEKYn_RO",
        "colab_type": "code",
        "colab": {}
      },
      "source": [
        ""
      ],
      "execution_count": 0,
      "outputs": []
    },
    {
      "cell_type": "markdown",
      "metadata": {
        "id": "LQr7y6eevTvy",
        "colab_type": "text"
      },
      "source": [
        "## End of Part - 2\n",
        "---"
      ]
    },
    {
      "cell_type": "markdown",
      "metadata": {
        "id": "TWhZcKvfvW2B",
        "colab_type": "text"
      },
      "source": [
        "## Part - 3\n",
        "---"
      ]
    },
    {
      "cell_type": "markdown",
      "metadata": {
        "id": "8bY4H9DszQ2S",
        "colab_type": "text"
      },
      "source": [
        "In this part, you will work with the library ```matplotlib```. Import the ```pyplot``` from ```matplotlib``` with an alias name ```plt```."
      ]
    },
    {
      "cell_type": "code",
      "metadata": {
        "id": "hPN6qctRzknT",
        "colab_type": "code",
        "colab": {}
      },
      "source": [
        ""
      ],
      "execution_count": 0,
      "outputs": []
    },
    {
      "cell_type": "markdown",
      "metadata": {
        "id": "fQ6KX_Aezlub",
        "colab_type": "text"
      },
      "source": [
        "Plot the sine function with domain in $[-3\\pi,3\\pi]$. Label the axes appropriately. Add title $\\sin(x)$. Use latex formatting while adding the title. Set the plot size to (10,10)"
      ]
    },
    {
      "cell_type": "code",
      "metadata": {
        "id": "0tA3J5mA1cQ0",
        "colab_type": "code",
        "colab": {}
      },
      "source": [
        ""
      ],
      "execution_count": 0,
      "outputs": []
    },
    {
      "cell_type": "markdown",
      "metadata": {
        "id": "6KV7RqMm1d8P",
        "colab_type": "text"
      },
      "source": [
        "Plot $\\sin(x)$ and its spectrum, $\\cos(x)$ and its spectrum in a single plot, in the domain $[-2\\pi,2\\pi]$. Label the plot appropriately."
      ]
    },
    {
      "cell_type": "code",
      "metadata": {
        "id": "-OJuY0HO12Oo",
        "colab_type": "code",
        "colab": {}
      },
      "source": [
        ""
      ],
      "execution_count": 0,
      "outputs": []
    },
    {
      "cell_type": "markdown",
      "metadata": {
        "id": "1S6ZRm6B18ZF",
        "colab_type": "text"
      },
      "source": [
        "## End of Part - 3\n",
        "---"
      ]
    },
    {
      "cell_type": "markdown",
      "metadata": {
        "id": "MUucpzXBl096",
        "colab_type": "text"
      },
      "source": [
        "Create a Github repository with the name ***SHALA2020*** and save this assignment there."
      ]
    }
  ]
}